{
 "cells": [
  {
   "cell_type": "markdown",
   "metadata": {},
   "source": [
    "# Stochastic Gradient Descent (SGD) for Matrix Factorization"
   ]
  },
  {
   "cell_type": "code",
   "execution_count": 2,
   "metadata": {},
   "outputs": [
    {
     "name": "stdout",
     "output_type": "stream",
     "text": [
      "Original Matrix:\n",
      " [[5 3 0 1]\n",
      " [4 0 0 1]\n",
      " [1 1 0 5]\n",
      " [1 0 0 4]\n",
      " [0 1 5 4]]\n",
      "Reconstructed Matrix:\n",
      " [[4.9767976  2.98320845 2.01359298 1.00133435]\n",
      " [3.9815885  2.40319818 1.84949941 0.99957084]\n",
      " [1.00084369 0.99763568 6.14081362 4.97332361]\n",
      " [0.99886778 0.91406345 4.95178578 3.98438127]\n",
      " [1.14472488 0.99977614 4.9860292  3.9931206 ]]\n"
     ]
    }
   ],
   "source": [
    "#### SGD in partially-observed case\n",
    "\n",
    "import numpy as np\n",
    "\n",
    "# Define the matrix A (example)\n",
    "A = np.array([\n",
    "    [5, 3, 0, 1],\n",
    "    [4, 0, 0, 1],\n",
    "    [1, 1, 0, 5],\n",
    "    [1, 0, 0, 4],\n",
    "    [0, 1, 5, 4]\n",
    "])\n",
    "\n",
    "# Parameters\n",
    "num_users, num_items = A.shape\n",
    "k = 2  # Number of latent features\n",
    "alpha = 0.01  # Learning rate\n",
    "num_iterations = 5000  # Number of iterations\n",
    "lambda_reg = 0.02  # Regularization parameter\n",
    "\n",
    "# Initialize W and H with random values\n",
    "W = np.random.rand(num_users, k)\n",
    "H = np.random.rand(num_items, k)\n",
    "Wi = W.copy()\n",
    "Hi = H.copy()\n",
    "\n",
    "# SGD for Matrix Factorization\n",
    "for iteration in range(num_iterations):\n",
    "    for i in range(num_users):\n",
    "        for j in range(num_items):\n",
    "            if A[i, j] > 0:  # Only consider observed entries\n",
    "                error = A[i, j] - np.dot(W[i, :], H[j, :].T)\n",
    "                for r in range(k):\n",
    "                    W[i, r] += alpha * (2 * error * H[j, r] - lambda_reg * W[i, r])\n",
    "                    H[j, r] += alpha * (2 * error * W[i, r] - lambda_reg * H[j, r])\n",
    "\n",
    "# Reconstructed matrix\n",
    "A_pred = np.dot(W, H.T)\n",
    "print(\"Original Matrix:\\n\", A)\n",
    "print(\"Reconstructed Matrix:\\n\", A_pred)"
   ]
  },
  {
   "cell_type": "markdown",
   "metadata": {},
   "source": [
    "# Alternating Least Squares (ALS) for Matrix Factorization"
   ]
  },
  {
   "cell_type": "code",
   "execution_count": 5,
   "metadata": {},
   "outputs": [
    {
     "name": "stdout",
     "output_type": "stream",
     "text": [
      "Original Matrix:\n",
      " [[5 3 0 1]\n",
      " [4 0 0 1]\n",
      " [1 1 0 5]\n",
      " [1 0 0 4]\n",
      " [0 1 5 4]]\n",
      "Reconstructed Matrix:\n",
      " [[ 5.10279107  1.89527059 -0.71400725  1.55716362]\n",
      " [ 3.41221941  1.27349095 -0.45128646  1.08687433]\n",
      " [ 1.54358278  1.04150338  1.78268283  3.95423636]\n",
      " [ 1.1722101   0.80095507  1.39659541  3.07748995]\n",
      " [-0.43918076  0.54504836  3.0845807   5.13456498]]\n"
     ]
    }
   ],
   "source": [
    "#### ALS in partially-observed case\n",
    "\n",
    "import numpy as np\n",
    "\n",
    "# Define the matrix A (example)\n",
    "A = np.array([\n",
    "    [5, 3, 0, 1],\n",
    "    [4, 0, 0, 1],\n",
    "    [1, 1, 0, 5],\n",
    "    [1, 0, 0, 4],\n",
    "    [0, 1, 5, 4]\n",
    "])\n",
    "\n",
    "# Parameters\n",
    "num_users, num_items = A.shape\n",
    "k = 2  # Number of latent features\n",
    "lambda_reg = 0.1  # Regularization parameter\n",
    "num_iterations = 10  # Number of iterations\n",
    "\n",
    "# Initialize W and H with random values\n",
    "W = np.random.rand(num_users, k)\n",
    "H = np.random.rand(num_items, k)\n",
    "\n",
    "# ALS for Matrix Factorization\n",
    "for iteration in range(num_iterations):\n",
    "    # Fix H and solve for W\n",
    "    for i in range(num_users):\n",
    "        W[i, :] = np.linalg.solve(\n",
    "            np.dot(H.T, H) + lambda_reg * np.eye(k),\n",
    "            np.dot(H.T, A[i, :].T)\n",
    "        ).T\n",
    "\n",
    "    # Fix W and solve for H\n",
    "    for j in range(num_items):\n",
    "        H[j, :] = np.linalg.solve(\n",
    "            np.dot(W.T, W) + lambda_reg * np.eye(k),\n",
    "            np.dot(W.T, A[:, j])\n",
    "        ).T\n",
    "\n",
    "# Reconstructed matrix\n",
    "A_pred = np.dot(W, H.T)\n",
    "print(\"Original Matrix:\\n\", A)\n",
    "print(\"Reconstructed Matrix:\\n\", A_pred)"
   ]
  },
  {
   "cell_type": "code",
   "execution_count": null,
   "metadata": {},
   "outputs": [],
   "source": []
  }
 ],
 "metadata": {
  "kernelspec": {
   "display_name": "pablo",
   "language": "python",
   "name": "python3"
  },
  "language_info": {
   "codemirror_mode": {
    "name": "ipython",
    "version": 3
   },
   "file_extension": ".py",
   "mimetype": "text/x-python",
   "name": "python",
   "nbconvert_exporter": "python",
   "pygments_lexer": "ipython3",
   "version": "3.12.2"
  }
 },
 "nbformat": 4,
 "nbformat_minor": 2
}
