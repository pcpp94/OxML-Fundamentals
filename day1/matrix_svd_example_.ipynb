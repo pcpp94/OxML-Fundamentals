{
 "cells": [
  {
   "cell_type": "markdown",
   "metadata": {},
   "source": [
    "# Singular Value Decomposition"
   ]
  },
  {
   "cell_type": "code",
   "execution_count": 1,
   "metadata": {},
   "outputs": [
    {
     "name": "stdout",
     "output_type": "stream",
     "text": [
      "Original Matrix A:\n",
      "[[1 0 0 0 2]\n",
      " [0 0 3 0 0]\n",
      " [0 0 0 0 0]\n",
      " [0 4 0 0 0]]\n",
      "\n",
      "Matrix U:\n",
      "[[ 0.  0.  1.  0.]\n",
      " [ 0.  1.  0.  0.]\n",
      " [ 0.  0.  0.  1.]\n",
      " [-1.  0.  0.  0.]]\n",
      "\n",
      "Singular Values (Sigma):\n",
      "[[4.         0.         0.         0.         0.        ]\n",
      " [0.         3.         0.         0.         0.        ]\n",
      " [0.         0.         2.23606798 0.         0.        ]\n",
      " [0.         0.         0.         0.         0.        ]]\n",
      "\n",
      "Matrix VT:\n",
      "[[ 0.         -1.          0.          0.          0.        ]\n",
      " [-0.          0.          1.         -0.          0.        ]\n",
      " [ 0.4472136  -0.         -0.         -0.          0.89442719]\n",
      " [ 0.          0.          0.          1.          0.        ]\n",
      " [-0.89442719  0.          0.          0.          0.4472136 ]]\n",
      "\n",
      "Reconstructed Matrix A (from U, Sigma, VT):\n",
      "[[1. 0. 0. 0. 2.]\n",
      " [0. 0. 3. 0. 0.]\n",
      " [0. 0. 0. 0. 0.]\n",
      " [0. 4. 0. 0. 0.]]\n"
     ]
    }
   ],
   "source": [
    "import numpy as np\n",
    "\n",
    "# Define the matrix A\n",
    "A = np.array([\n",
    "    [1, 0, 0, 0, 2],\n",
    "    [0, 0, 3, 0, 0],\n",
    "    [0, 0, 0, 0, 0],\n",
    "    [0, 4, 0, 0, 0]\n",
    "])\n",
    "\n",
    "# Perform SVD\n",
    "U, S, VT = np.linalg.svd(A)\n",
    "\n",
    "# Convert S to a diagonal matrix\n",
    "Sigma = np.zeros((A.shape[0], A.shape[1]))\n",
    "Sigma[:min(A.shape[0], A.shape[1]), :min(A.shape[0], A.shape[1])] = np.diag(S)\n",
    "\n",
    "# Reconstruct the original matrix (optional)\n",
    "A_reconstructed = np.dot(U, np.dot(Sigma, VT))\n",
    "\n",
    "# Print the results\n",
    "print(\"Original Matrix A:\")\n",
    "print(A)\n",
    "\n",
    "print(\"\\nMatrix U:\")\n",
    "print(U)\n",
    "\n",
    "print(\"\\nSingular Values (Sigma):\")\n",
    "print(Sigma)\n",
    "\n",
    "print(\"\\nMatrix VT:\")\n",
    "print(VT)\n",
    "\n",
    "print(\"\\nReconstructed Matrix A (from U, Sigma, VT):\")\n",
    "print(A_reconstructed)"
   ]
  },
  {
   "cell_type": "code",
   "execution_count": null,
   "metadata": {},
   "outputs": [],
   "source": []
  }
 ],
 "metadata": {
  "kernelspec": {
   "display_name": "pablo",
   "language": "python",
   "name": "python3"
  },
  "language_info": {
   "codemirror_mode": {
    "name": "ipython",
    "version": 3
   },
   "file_extension": ".py",
   "mimetype": "text/x-python",
   "name": "python",
   "nbconvert_exporter": "python",
   "pygments_lexer": "ipython3",
   "version": "3.12.2"
  }
 },
 "nbformat": 4,
 "nbformat_minor": 2
}
